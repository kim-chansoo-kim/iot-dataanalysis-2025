{
 "cells": [
  {
   "cell_type": "markdown",
   "id": "5b5f45da",
   "metadata": {},
   "source": [
    "## 파이토치 시작\n",
    "\n",
    "### 파이토치\n",
    "- https://pytorch.org/\n",
    "- https://www.ultralytics.com/ko 와 손을 잡고 YOLO 개발\n",
    "    - 물체인식, 영상인식 분야의 트렌드\n",
    "\n",
    "<img src=\"../image/ml0016.png\" width=\"700\">"
   ]
  },
  {
   "cell_type": "markdown",
   "id": "1d39faac",
   "metadata": {},
   "source": [
    "#### 파이토치 GPU와 같이 사용하려면\n",
    "- NVIDIA CUDA 설치, 확인\n",
    "- cuDNN(CUDA 상에서 사용하는 여러 패키지) 설치\n",
    "- NVIDIA CUDA 버전에 맞는 PyTorch를 설치\n",
    "\n",
    "#### Tensorflow GPU\n",
    "- NVIDIA CUDA 상에서 동작\n",
    "- 윈도우에서는 설치가 무지 어렵다(그래서 텐서플로우에서는 사용안함)"
   ]
  },
  {
   "cell_type": "markdown",
   "id": "26e5b97f",
   "metadata": {},
   "source": [
    "##### NVIDIA 설정\n",
    "```shell\n",
    "> nvidia-smi\n",
    "- 그래픽카트 설명 표시\n",
    "```\n",
    "- NVIDIA Geforce RTX... 표시가 되면 사용가능"
   ]
  },
  {
   "cell_type": "markdown",
   "id": "2610f7f6",
   "metadata": {},
   "source": [
    "##### CUDA 설치\n",
    "- https://developer.nvidia.com/cuda-11-8-0-download-archive\n",
    "- Operating System : window \n",
    "- Architecture : x86_64\n",
    "- Version : 11\n",
    "- Installer Type : exe(local)\n",
    "- Base Installer : Download(3.0GB) 클릭"
   ]
  },
  {
   "cell_type": "markdown",
   "id": "8fbcfd21",
   "metadata": {},
   "source": [
    "##### cuDNN 11.8\n",
    "- https://developer.nvidia.com/rdp/cudnn-archive\n",
    "    - Download cuDNN v8.6.0 (October 3rd, 2022), for CUDA 11.x\n",
    "\n",
    "- 압축해제 후 CUDA 위치에 붙여넣기하면 끝\n",
    "\n",
    "- 터미널/PowerShell에서\n",
    "\n",
    "```shell\n",
    "> nvcc --version\n",
    "nvcc: NVIDIA (R) Cuda compiler driver\n",
    "Copyright (c) 2005-2022 NVIDIA Corporation\n",
    "Built on Wed_Sep_21_10:41:10_Pacific_Daylight_Time_2022\n",
    "Cuda compilation tools, release 11.8, V11.8.89\n",
    "Build cuda_11.8.r11.8/compiler.31833905_0\n",
    "PS C:\\Users\\Admin>\n",
    "```"
   ]
  },
  {
   "cell_type": "markdown",
   "id": "6639d17a",
   "metadata": {},
   "source": [
    "- 설치된 cuDNN을 CUDA파일 -> v11.8파일 안으로 이동"
   ]
  },
  {
   "cell_type": "markdown",
   "id": "8f02a254",
   "metadata": {},
   "source": [
    "#### PyTorch 설치\n",
    "\n",
    "<img src=\"../image/ml0017.png\" width=\"700\">\n",
    "\n",
    "- 콘솔에서 아래 명령어를 실행\n",
    "\n",
    "```shell\n",
    "> .\\mlvenv\\Scripts\\activate\n",
    "> pip install torch torchvision torchaudio --index-url https://download.pytorch.org/whl/cu118\n",
    "```\n",
    "\n"
   ]
  },
  {
   "cell_type": "markdown",
   "id": "9ec159ab",
   "metadata": {},
   "source": [
    "##### 파이토치 확인"
   ]
  },
  {
   "cell_type": "code",
   "execution_count": 1,
   "id": "b5b8e5a8",
   "metadata": {},
   "outputs": [],
   "source": [
    "# 파이토치 모듈 사용\n",
    "import torch"
   ]
  },
  {
   "cell_type": "code",
   "execution_count": 4,
   "id": "ba168ce1",
   "metadata": {},
   "outputs": [
    {
     "data": {
      "text/plain": [
       "True"
      ]
     },
     "execution_count": 4,
     "metadata": {},
     "output_type": "execute_result"
    }
   ],
   "source": [
    "torch.cuda.is_available()"
   ]
  },
  {
   "cell_type": "code",
   "execution_count": 3,
   "id": "d4295bc3",
   "metadata": {},
   "outputs": [
    {
     "data": {
      "text/plain": [
       "device(type='cuda')"
      ]
     },
     "execution_count": 3,
     "metadata": {},
     "output_type": "execute_result"
    }
   ],
   "source": [
    "device = torch.device('cuda'if torch.cuda.is_available() else 'cpu')\n",
    "device"
   ]
  }
 ],
 "metadata": {
  "kernelspec": {
   "display_name": "mlvenv",
   "language": "python",
   "name": "python3"
  },
  "language_info": {
   "codemirror_mode": {
    "name": "ipython",
    "version": 3
   },
   "file_extension": ".py",
   "mimetype": "text/x-python",
   "name": "python",
   "nbconvert_exporter": "python",
   "pygments_lexer": "ipython3",
   "version": "3.11.9"
  }
 },
 "nbformat": 4,
 "nbformat_minor": 5
}
