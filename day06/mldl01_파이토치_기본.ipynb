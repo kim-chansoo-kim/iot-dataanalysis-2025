{
 "cells": [
  {
   "cell_type": "markdown",
   "id": "96a5aaf0",
   "metadata": {},
   "source": [
    "## 파이토치 기본\n",
    "\n",
    "### 파이토치 패키지(API)\n",
    "- `torch` : 메인 네임스페이스. 텐서(시본단위)등 수학함수 포함. Numpy와 유사한 구조\n",
    "- `torch.autograd` : 자동미분을 위한 함수들이 포함. 컨텍스트 매니저, 기반클래스 포함\n",
    "- `torch.nn` / `torch.nn.functional` : neuralnetwork. 신경망 구축위한 데이터 구조, 레이어등이 정의되어 있는 모듈. Relu 등도 포함\n",
    "- `torch.optim` : SGD(확률적 경사 하강법) 중심 파라미터 최적화 알고리즘 포함\n",
    "- `torch.utils` : SGD 반복 연산 시 배치용 유틸리티 함수 포함\n",
    "- torch.multiprocessing : 파이토치용 병렬프로세싱 환경을 안전하게 다루기 위한 모듈"
   ]
  },
  {
   "cell_type": "markdown",
   "id": "82207ef9",
   "metadata": {},
   "source": [
    "### 텐서\n",
    "- 파이토치 기본단위\n",
    "    - 1차원 배열 - 벡터\n",
    "    - 2차원 배열 - 행렬(매트릭스)\n",
    "    - 3차원 배열 - 텐서\n",
    "\n",
    "- <img src=\"../image/ml0018.png\" width=\"600\">\n",
    "\n",
    "- <img src=\"../image/ml0019.png\" width=\"600\">"
   ]
  },
  {
   "cell_type": "code",
   "execution_count": 273,
   "id": "f8010052",
   "metadata": {},
   "outputs": [],
   "source": [
    "import torch\n",
    "import numpy as np"
   ]
  },
  {
   "cell_type": "code",
   "execution_count": 274,
   "id": "3fbda017",
   "metadata": {},
   "outputs": [
    {
     "data": {
      "text/plain": [
       "tensor([1., 2., 3.])"
      ]
     },
     "execution_count": 274,
     "metadata": {},
     "output_type": "execute_result"
    }
   ],
   "source": [
    "t1 = torch.tensor([1.0, 2.0, 3.0])\n",
    "t1"
   ]
  },
  {
   "cell_type": "code",
   "execution_count": 275,
   "id": "82bd496a",
   "metadata": {},
   "outputs": [
    {
     "name": "stdout",
     "output_type": "stream",
     "text": [
      "torch.Size([3]) torch.float32 torch.FloatTensor cpu\n"
     ]
    }
   ],
   "source": [
    "# 텐서의 크기, 텐서 자료형, 자료형+전체타입, 어느 디바이스에서 사용중\n",
    "print(t1.shape, t1.dtype, t1.type(), t1.device)"
   ]
  },
  {
   "cell_type": "code",
   "execution_count": 276,
   "id": "a0837b67",
   "metadata": {},
   "outputs": [
    {
     "data": {
      "text/plain": [
       "array([1., 2., 3.])"
      ]
     },
     "execution_count": 276,
     "metadata": {},
     "output_type": "execute_result"
    }
   ],
   "source": [
    "n1 = np.array([1.0, 2.0, 3.0])\n",
    "n1"
   ]
  },
  {
   "cell_type": "code",
   "execution_count": 277,
   "id": "a4204ba1",
   "metadata": {},
   "outputs": [
    {
     "data": {
      "text/plain": [
       "array([[1., 1., 1.],\n",
       "       [1., 1., 1.]])"
      ]
     },
     "execution_count": 277,
     "metadata": {},
     "output_type": "execute_result"
    }
   ],
   "source": [
    "## numpy에서 1, 0으로 초기화 되는\n",
    "n2 = np.ones([2, 3])\n",
    "n2"
   ]
  },
  {
   "cell_type": "code",
   "execution_count": 278,
   "id": "31bab229",
   "metadata": {},
   "outputs": [
    {
     "data": {
      "text/plain": [
       "array([[0., 0., 0.],\n",
       "       [0., 0., 0.]])"
      ]
     },
     "execution_count": 278,
     "metadata": {},
     "output_type": "execute_result"
    }
   ],
   "source": [
    "n3 = np.zeros([2, 3])\n",
    "n3"
   ]
  },
  {
   "cell_type": "code",
   "execution_count": 279,
   "id": "000a459b",
   "metadata": {},
   "outputs": [
    {
     "data": {
      "text/plain": [
       "tensor([[1., 1., 1.],\n",
       "        [1., 1., 1.]])"
      ]
     },
     "execution_count": 279,
     "metadata": {},
     "output_type": "execute_result"
    }
   ],
   "source": [
    "t2 = torch.ones(2,3)\n",
    "t2"
   ]
  },
  {
   "cell_type": "code",
   "execution_count": 280,
   "id": "36f63b1d",
   "metadata": {},
   "outputs": [
    {
     "name": "stdout",
     "output_type": "stream",
     "text": [
      "torch.Size([2, 3]) torch.float32 torch.FloatTensor cpu\n"
     ]
    }
   ],
   "source": [
    "print(t2.shape, t2.dtype, t2.type(), t2.device)"
   ]
  },
  {
   "cell_type": "code",
   "execution_count": 281,
   "id": "60e6f10d",
   "metadata": {},
   "outputs": [
    {
     "data": {
      "text/plain": [
       "tensor([[0., 0., 0.],\n",
       "        [0., 0., 0.]])"
      ]
     },
     "execution_count": 281,
     "metadata": {},
     "output_type": "execute_result"
    }
   ],
   "source": [
    "t3 = torch.zeros(2, 3)\n",
    "t3"
   ]
  },
  {
   "cell_type": "code",
   "execution_count": 282,
   "id": "373f532f",
   "metadata": {},
   "outputs": [
    {
     "data": {
      "text/plain": [
       "tensor([[0., 0., 0.],\n",
       "        [0., 0., 0.]], dtype=torch.float64)"
      ]
     },
     "execution_count": 282,
     "metadata": {},
     "output_type": "execute_result"
    }
   ],
   "source": [
    "# numpy로 만든 배열을 텐서로 변환\n",
    "t4 = torch.from_numpy(n3)\n",
    "t4"
   ]
  },
  {
   "cell_type": "markdown",
   "id": "41ede416",
   "metadata": {},
   "source": [
    "- 넘파이와 파이토치 텐서간의 형변환이 아주 쉽다"
   ]
  },
  {
   "cell_type": "code",
   "execution_count": 283,
   "id": "f5ce317d",
   "metadata": {},
   "outputs": [
    {
     "data": {
      "text/plain": [
       "tensor([[[1., 1., 1.],\n",
       "         [1., 1., 1.],\n",
       "         [1., 1., 1.]],\n",
       "\n",
       "        [[1., 1., 1.],\n",
       "         [1., 1., 1.],\n",
       "         [1., 1., 1.]],\n",
       "\n",
       "        [[1., 1., 1.],\n",
       "         [1., 1., 1.],\n",
       "         [1., 1., 1.]]])"
      ]
     },
     "execution_count": 283,
     "metadata": {},
     "output_type": "execute_result"
    }
   ],
   "source": [
    "t5 = torch.ones(3, 3, 3)\n",
    "t5"
   ]
  },
  {
   "cell_type": "code",
   "execution_count": 284,
   "id": "706d69c7",
   "metadata": {},
   "outputs": [
    {
     "name": "stdout",
     "output_type": "stream",
     "text": [
      "torch.Size([3, 3, 3]) torch.float32 torch.FloatTensor cpu\n",
      "torch.Size([3, 3, 3])\n"
     ]
    }
   ],
   "source": [
    "print(t5.shape, t5.dtype, t5.type(), t5.device)\n",
    "print(t5.size())"
   ]
  },
  {
   "cell_type": "code",
   "execution_count": 285,
   "id": "27ecf761",
   "metadata": {},
   "outputs": [
    {
     "data": {
      "text/plain": [
       "tensor([[ 2.3410, -0.7631,  0.0683],\n",
       "        [-1.0696,  0.2435,  1.2022]])"
      ]
     },
     "execution_count": 285,
     "metadata": {},
     "output_type": "execute_result"
    }
   ],
   "source": [
    "# 랜덤값, randn() 정규화\n",
    "t6 = torch.randn(2, 3)\n",
    "t6"
   ]
  },
  {
   "cell_type": "code",
   "execution_count": 286,
   "id": "aa9ab26d",
   "metadata": {},
   "outputs": [
    {
     "data": {
      "text/plain": [
       "device(type='cuda')"
      ]
     },
     "execution_count": 286,
     "metadata": {},
     "output_type": "execute_result"
    }
   ],
   "source": [
    "# cpu에 있는 텐서를 CUDA로 이동\n",
    "device = torch.device('cuda' if torch.cuda.is_available() else 'cpu')\n",
    "device"
   ]
  },
  {
   "cell_type": "code",
   "execution_count": 287,
   "id": "47a9c001",
   "metadata": {},
   "outputs": [],
   "source": [
    "# t5에 있는 텐서를 cuda로 변수명을 다르게 하면 복사, 변수명을 똑같이 하면 이동\n",
    "t5 = t5.to(device=device)"
   ]
  },
  {
   "cell_type": "code",
   "execution_count": 288,
   "id": "ca2413d6",
   "metadata": {},
   "outputs": [
    {
     "name": "stdout",
     "output_type": "stream",
     "text": [
      "torch.Size([3, 3, 3]) torch.float32 torch.cuda.FloatTensor cuda:0\n"
     ]
    }
   ],
   "source": [
    "print(t5.shape, t5.dtype, t5.type(), t5.device)"
   ]
  },
  {
   "cell_type": "markdown",
   "id": "d0d61189",
   "metadata": {},
   "source": [
    "- cuda(GPU사용하는 것):0(그래픽카드가 다수일 수 있음)\n",
    "- 파이토치ㅏ의 텐서사용 == 넘파이 배열사용"
   ]
  },
  {
   "cell_type": "markdown",
   "id": "9a83c86d",
   "metadata": {},
   "source": [
    "### GPU 사용법"
   ]
  },
  {
   "cell_type": "code",
   "execution_count": 289,
   "id": "ffe579fa",
   "metadata": {},
   "outputs": [
    {
     "data": {
      "text/plain": [
       "tensor([[-2.0948]], grad_fn=<AddmmBackward0>)"
      ]
     },
     "execution_count": 289,
     "metadata": {},
     "output_type": "execute_result"
    }
   ],
   "source": [
    "# CPU 사용\n",
    "import torch.nn\n",
    "\n",
    "# 신경망 모델 생성 - 3개의 입력을 넣어서 하나의 출력을 내는 신경망\n",
    "model = torch.nn.Linear(3, 1)\n",
    "\n",
    "sample_input = torch.tensor([[1.0, 2.0, 3.0]])\n",
    "output = model(sample_input)\n",
    "\n",
    "output"
   ]
  },
  {
   "cell_type": "code",
   "execution_count": 290,
   "id": "ff4c5583",
   "metadata": {},
   "outputs": [
    {
     "data": {
      "text/plain": [
       "tensor([[0.2351]], device='cuda:0', grad_fn=<AddmmBackward0>)"
      ]
     },
     "execution_count": 290,
     "metadata": {},
     "output_type": "execute_result"
    }
   ],
   "source": [
    "# CUDA 사용\n",
    "import torch.nn\n",
    "\n",
    "# 신경망 모델 생성 - 3개의 입력을 넣어서 하나의 출력을 내는 신경망\n",
    "model = torch.nn.Linear(3, 1)\n",
    "model.to(device)\n",
    "\n",
    "sample_input = torch.tensor([[1.0, 2.0, 3.0]]).to(device)\n",
    "output = model(sample_input)\n",
    "\n",
    "output"
   ]
  },
  {
   "cell_type": "markdown",
   "id": "4bbfa598",
   "metadata": {},
   "source": [
    "### PyTorch 모델 학습\n",
    "- torch.nn.Module 로 신경망 모델 만들기 - 텐서플로우와 차이점 확인\n",
    "- 손실 함수, 옵티마이저 설정 학습\n",
    "- 학습 루프 기본 구조 학습"
   ]
  },
  {
   "cell_type": "markdown",
   "id": "cac5101f",
   "metadata": {},
   "source": [
    "#### 기본 구조 추가"
   ]
  },
  {
   "cell_type": "code",
   "execution_count": 291,
   "id": "9fb5bb69",
   "metadata": {},
   "outputs": [],
   "source": [
    "# 파이토치 모듈 로드\n",
    "import torch\n",
    "import torch.nn as nn\n",
    "import torch.nn.functional as F # 보통 F로 사용\n",
    "\n",
    "# 모델 선언(클래스)\n",
    "class SimpleNet(nn.Module): # nn.Module 클래스를 상속해서 클래스 생성\n",
    "    def __init__(self):\n",
    "        super(SimpleNet, self).__init__()\n",
    "        # Linear : Dense Layer(케라스의 Dense()와 동일)\n",
    "        self.fc1 = nn.Linear(4, 16) # input : 4개 입력, output : 16개 뉴런\n",
    "        self.fc2 = nn.Linear(16, 3) # input : 16개 입력, output 3개 클래스(3가지 분류 예측)\n",
    "\n",
    "    def forward(self, X):   # 실제 연산이 수행되는 함수(자동 호출)\n",
    "        X = F.relu(self.fc1(X)) # 첫번째 레이어통과 - 활성화 함수(시그모이드, 소프트맥스, 렐루 모두 존재)\n",
    "        X = self.fc2(X)         # 두번째 레이어통과 - 출력층(필요시 softmax 사용)\n",
    "        return X"
   ]
  },
  {
   "cell_type": "markdown",
   "id": "d6c6a1ab",
   "metadata": {},
   "source": [
    "- 텐서플로우(케라스) 중간층에서 입력값을 설정하지 않아도 됨\n",
    "- 파이토치는 입력값, 출력값을 모두 설정해야함"
   ]
  },
  {
   "cell_type": "code",
   "execution_count": 292,
   "id": "1d2698a7",
   "metadata": {},
   "outputs": [
    {
     "data": {
      "text/plain": [
       "SimpleNet(\n",
       "  (fc1): Linear(in_features=4, out_features=16, bias=True)\n",
       "  (fc2): Linear(in_features=16, out_features=3, bias=True)\n",
       ")"
      ]
     },
     "execution_count": 292,
     "metadata": {},
     "output_type": "execute_result"
    }
   ],
   "source": [
    "# 모델확인\n",
    "model = SimpleNet()\n",
    "model"
   ]
  },
  {
   "cell_type": "code",
   "execution_count": 293,
   "id": "2734fb64",
   "metadata": {},
   "outputs": [
    {
     "data": {
      "text/plain": [
       "tensor([[0.1565, 0.9765, 0.3054, 0.9411]])"
      ]
     },
     "execution_count": 293,
     "metadata": {},
     "output_type": "execute_result"
    }
   ],
   "source": [
    "# 샘플입력값\n",
    "X = torch.rand(1, 4)\n",
    "X"
   ]
  },
  {
   "cell_type": "code",
   "execution_count": 294,
   "id": "4603cfae",
   "metadata": {},
   "outputs": [
    {
     "data": {
      "text/plain": [
       "tensor([[0.1565, 0.9765, 0.3054, 0.9411]])"
      ]
     },
     "execution_count": 294,
     "metadata": {},
     "output_type": "execute_result"
    }
   ],
   "source": [
    "out = model(X)\n",
    "X"
   ]
  },
  {
   "cell_type": "markdown",
   "id": "d38c4940",
   "metadata": {},
   "source": [
    "#### 손실함수/옵티마이저 설정"
   ]
  },
  {
   "cell_type": "code",
   "execution_count": 295,
   "id": "0f91be07",
   "metadata": {},
   "outputs": [],
   "source": [
    "# 분류(마지막 출력 3개) CrossEntropyLoss -\n",
    "criterion = nn.CrossEntropyLoss()\n",
    "\n",
    "# 옵티마이저(Adam 권장)\n",
    "optimizer = torch.optim.Adam(model.parameters(), lr=0.01) # lr(learning rate) 학습률 : 보통 0.01 ~ 0.0001 사이로 지정"
   ]
  },
  {
   "cell_type": "markdown",
   "id": "59cbe5dc",
   "metadata": {},
   "source": [
    "#### 1회 Epoch학습"
   ]
  },
  {
   "cell_type": "code",
   "execution_count": 296,
   "id": "19a78bee",
   "metadata": {},
   "outputs": [
    {
     "data": {
      "text/plain": [
       "0.9502485990524292"
      ]
     },
     "execution_count": 296,
     "metadata": {},
     "output_type": "execute_result"
    }
   ],
   "source": [
    "y = torch.tensor([1])\n",
    "\n",
    "# Forward\n",
    "# 예측-------------------------------------------------------------------------------\n",
    "outputs = model(X)\n",
    "\n",
    "# 손실계산---------------------------------------------------------------------------\n",
    "loss = criterion(outputs, y)\n",
    "\n",
    "# Backward(역전파) : 뉴런을 통과한 값이 다시 다음 훈련의 입력으로 사용\n",
    "# 기울기 초기화----------------------------------------------------------------------\n",
    "optimizer.zero_grad() # 이전 단계 계산되 gradient(기울기/가중치) 초기화\n",
    "\n",
    "# 역전파 계산------------------------------------------------------------------------\n",
    "loss.backward() # 손실 기준으로 각 파라미터에 대한 gradient 계산 (오차 역전파)\n",
    "\n",
    "# 파라미터 업데이트------------------------------------------------------------------\n",
    "optimizer.step() # 계산한 gradient를 이용, 파라미터 업데이트(학습훈련)\n",
    "\n",
    "# 현재 손실값을 출력\n",
    "loss.item()"
   ]
  },
  {
   "cell_type": "markdown",
   "id": "3e172c4b",
   "metadata": {},
   "source": [
    "### 데이터셋, 데이터로더\n",
    "- `Datset`, `Dataloader` 학습\n",
    "- 내장 데이터셋\n",
    "- 커스텀 데이터셋 만들기\n",
    "- 배치 학습 처리"
   ]
  },
  {
   "cell_type": "markdown",
   "id": "d31d4a18",
   "metadata": {},
   "source": [
    "#### 데이터셋, 데이터 로더란?\n",
    "- Dataset - 데이터를 불러오는 방법\n",
    "- DataLoader - 데이터를 배치 단위로 나누기, 셔플, 병렬처리 방법"
   ]
  },
  {
   "cell_type": "markdown",
   "id": "52d8db51",
   "metadata": {},
   "source": [
    "#### 추가\n",
    "- 머신러닝, 딥러닝에 사용되는 데이터 샘플 종류 에제"
   ]
  },
  {
   "cell_type": "code",
   "execution_count": 297,
   "id": "c73497aa",
   "metadata": {},
   "outputs": [],
   "source": [
    "from sklearn.datasets import load_breast_cancer, load_wine # 11개 데이터셋\n",
    "import seaborn as sns\n",
    "\n",
    "datas = sns.load_dataset('titanic') # https://github.com/mwaskom/seaborn-data 확인\n",
    "\n",
    "from torchvision.datasets import FashionMNIST, MNIST, CIFAR10 # 이미지 데이터셋\n",
    "from keras.datasets import mnist, fashion_mnist, boston_housing, cifar10, cifar100, imdb # 이미지와 텍스트 데이터셋"
   ]
  },
  {
   "cell_type": "code",
   "execution_count": 298,
   "id": "2df44560",
   "metadata": {},
   "outputs": [
    {
     "data": {
      "text/html": [
       "<div>\n",
       "<style scoped>\n",
       "    .dataframe tbody tr th:only-of-type {\n",
       "        vertical-align: middle;\n",
       "    }\n",
       "\n",
       "    .dataframe tbody tr th {\n",
       "        vertical-align: top;\n",
       "    }\n",
       "\n",
       "    .dataframe thead th {\n",
       "        text-align: right;\n",
       "    }\n",
       "</style>\n",
       "<table border=\"1\" class=\"dataframe\">\n",
       "  <thead>\n",
       "    <tr style=\"text-align: right;\">\n",
       "      <th></th>\n",
       "      <th>survived</th>\n",
       "      <th>pclass</th>\n",
       "      <th>sex</th>\n",
       "      <th>age</th>\n",
       "      <th>sibsp</th>\n",
       "      <th>parch</th>\n",
       "      <th>fare</th>\n",
       "      <th>embarked</th>\n",
       "      <th>class</th>\n",
       "      <th>who</th>\n",
       "      <th>adult_male</th>\n",
       "      <th>deck</th>\n",
       "      <th>embark_town</th>\n",
       "      <th>alive</th>\n",
       "      <th>alone</th>\n",
       "    </tr>\n",
       "  </thead>\n",
       "  <tbody>\n",
       "    <tr>\n",
       "      <th>0</th>\n",
       "      <td>0</td>\n",
       "      <td>3</td>\n",
       "      <td>male</td>\n",
       "      <td>22.0</td>\n",
       "      <td>1</td>\n",
       "      <td>0</td>\n",
       "      <td>7.2500</td>\n",
       "      <td>S</td>\n",
       "      <td>Third</td>\n",
       "      <td>man</td>\n",
       "      <td>True</td>\n",
       "      <td>NaN</td>\n",
       "      <td>Southampton</td>\n",
       "      <td>no</td>\n",
       "      <td>False</td>\n",
       "    </tr>\n",
       "    <tr>\n",
       "      <th>1</th>\n",
       "      <td>1</td>\n",
       "      <td>1</td>\n",
       "      <td>female</td>\n",
       "      <td>38.0</td>\n",
       "      <td>1</td>\n",
       "      <td>0</td>\n",
       "      <td>71.2833</td>\n",
       "      <td>C</td>\n",
       "      <td>First</td>\n",
       "      <td>woman</td>\n",
       "      <td>False</td>\n",
       "      <td>C</td>\n",
       "      <td>Cherbourg</td>\n",
       "      <td>yes</td>\n",
       "      <td>False</td>\n",
       "    </tr>\n",
       "    <tr>\n",
       "      <th>2</th>\n",
       "      <td>1</td>\n",
       "      <td>3</td>\n",
       "      <td>female</td>\n",
       "      <td>26.0</td>\n",
       "      <td>0</td>\n",
       "      <td>0</td>\n",
       "      <td>7.9250</td>\n",
       "      <td>S</td>\n",
       "      <td>Third</td>\n",
       "      <td>woman</td>\n",
       "      <td>False</td>\n",
       "      <td>NaN</td>\n",
       "      <td>Southampton</td>\n",
       "      <td>yes</td>\n",
       "      <td>True</td>\n",
       "    </tr>\n",
       "    <tr>\n",
       "      <th>3</th>\n",
       "      <td>1</td>\n",
       "      <td>1</td>\n",
       "      <td>female</td>\n",
       "      <td>35.0</td>\n",
       "      <td>1</td>\n",
       "      <td>0</td>\n",
       "      <td>53.1000</td>\n",
       "      <td>S</td>\n",
       "      <td>First</td>\n",
       "      <td>woman</td>\n",
       "      <td>False</td>\n",
       "      <td>C</td>\n",
       "      <td>Southampton</td>\n",
       "      <td>yes</td>\n",
       "      <td>False</td>\n",
       "    </tr>\n",
       "    <tr>\n",
       "      <th>4</th>\n",
       "      <td>0</td>\n",
       "      <td>3</td>\n",
       "      <td>male</td>\n",
       "      <td>35.0</td>\n",
       "      <td>0</td>\n",
       "      <td>0</td>\n",
       "      <td>8.0500</td>\n",
       "      <td>S</td>\n",
       "      <td>Third</td>\n",
       "      <td>man</td>\n",
       "      <td>True</td>\n",
       "      <td>NaN</td>\n",
       "      <td>Southampton</td>\n",
       "      <td>no</td>\n",
       "      <td>True</td>\n",
       "    </tr>\n",
       "    <tr>\n",
       "      <th>...</th>\n",
       "      <td>...</td>\n",
       "      <td>...</td>\n",
       "      <td>...</td>\n",
       "      <td>...</td>\n",
       "      <td>...</td>\n",
       "      <td>...</td>\n",
       "      <td>...</td>\n",
       "      <td>...</td>\n",
       "      <td>...</td>\n",
       "      <td>...</td>\n",
       "      <td>...</td>\n",
       "      <td>...</td>\n",
       "      <td>...</td>\n",
       "      <td>...</td>\n",
       "      <td>...</td>\n",
       "    </tr>\n",
       "    <tr>\n",
       "      <th>886</th>\n",
       "      <td>0</td>\n",
       "      <td>2</td>\n",
       "      <td>male</td>\n",
       "      <td>27.0</td>\n",
       "      <td>0</td>\n",
       "      <td>0</td>\n",
       "      <td>13.0000</td>\n",
       "      <td>S</td>\n",
       "      <td>Second</td>\n",
       "      <td>man</td>\n",
       "      <td>True</td>\n",
       "      <td>NaN</td>\n",
       "      <td>Southampton</td>\n",
       "      <td>no</td>\n",
       "      <td>True</td>\n",
       "    </tr>\n",
       "    <tr>\n",
       "      <th>887</th>\n",
       "      <td>1</td>\n",
       "      <td>1</td>\n",
       "      <td>female</td>\n",
       "      <td>19.0</td>\n",
       "      <td>0</td>\n",
       "      <td>0</td>\n",
       "      <td>30.0000</td>\n",
       "      <td>S</td>\n",
       "      <td>First</td>\n",
       "      <td>woman</td>\n",
       "      <td>False</td>\n",
       "      <td>B</td>\n",
       "      <td>Southampton</td>\n",
       "      <td>yes</td>\n",
       "      <td>True</td>\n",
       "    </tr>\n",
       "    <tr>\n",
       "      <th>888</th>\n",
       "      <td>0</td>\n",
       "      <td>3</td>\n",
       "      <td>female</td>\n",
       "      <td>NaN</td>\n",
       "      <td>1</td>\n",
       "      <td>2</td>\n",
       "      <td>23.4500</td>\n",
       "      <td>S</td>\n",
       "      <td>Third</td>\n",
       "      <td>woman</td>\n",
       "      <td>False</td>\n",
       "      <td>NaN</td>\n",
       "      <td>Southampton</td>\n",
       "      <td>no</td>\n",
       "      <td>False</td>\n",
       "    </tr>\n",
       "    <tr>\n",
       "      <th>889</th>\n",
       "      <td>1</td>\n",
       "      <td>1</td>\n",
       "      <td>male</td>\n",
       "      <td>26.0</td>\n",
       "      <td>0</td>\n",
       "      <td>0</td>\n",
       "      <td>30.0000</td>\n",
       "      <td>C</td>\n",
       "      <td>First</td>\n",
       "      <td>man</td>\n",
       "      <td>True</td>\n",
       "      <td>C</td>\n",
       "      <td>Cherbourg</td>\n",
       "      <td>yes</td>\n",
       "      <td>True</td>\n",
       "    </tr>\n",
       "    <tr>\n",
       "      <th>890</th>\n",
       "      <td>0</td>\n",
       "      <td>3</td>\n",
       "      <td>male</td>\n",
       "      <td>32.0</td>\n",
       "      <td>0</td>\n",
       "      <td>0</td>\n",
       "      <td>7.7500</td>\n",
       "      <td>Q</td>\n",
       "      <td>Third</td>\n",
       "      <td>man</td>\n",
       "      <td>True</td>\n",
       "      <td>NaN</td>\n",
       "      <td>Queenstown</td>\n",
       "      <td>no</td>\n",
       "      <td>True</td>\n",
       "    </tr>\n",
       "  </tbody>\n",
       "</table>\n",
       "<p>891 rows × 15 columns</p>\n",
       "</div>"
      ],
      "text/plain": [
       "     survived  pclass     sex   age  ...  deck  embark_town  alive  alone\n",
       "0           0       3    male  22.0  ...   NaN  Southampton     no  False\n",
       "1           1       1  female  38.0  ...     C    Cherbourg    yes  False\n",
       "2           1       3  female  26.0  ...   NaN  Southampton    yes   True\n",
       "3           1       1  female  35.0  ...     C  Southampton    yes  False\n",
       "4           0       3    male  35.0  ...   NaN  Southampton     no   True\n",
       "..        ...     ...     ...   ...  ...   ...          ...    ...    ...\n",
       "886         0       2    male  27.0  ...   NaN  Southampton     no   True\n",
       "887         1       1  female  19.0  ...     B  Southampton    yes   True\n",
       "888         0       3  female   NaN  ...   NaN  Southampton     no  False\n",
       "889         1       1    male  26.0  ...     C    Cherbourg    yes   True\n",
       "890         0       3    male  32.0  ...   NaN   Queenstown     no   True\n",
       "\n",
       "[891 rows x 15 columns]"
      ]
     },
     "execution_count": 298,
     "metadata": {},
     "output_type": "execute_result"
    }
   ],
   "source": [
    "datas"
   ]
  },
  {
   "cell_type": "markdown",
   "id": "709e8be9",
   "metadata": {},
   "source": [
    "#### 붓꽃(lris) 데이터셋 사용"
   ]
  },
  {
   "cell_type": "code",
   "execution_count": 299,
   "id": "d5a230a8",
   "metadata": {},
   "outputs": [],
   "source": [
    "# 데이터셋 처리 모듈 로드\n",
    "from sklearn.datasets import load_iris, load_wine\n",
    "from sklearn.preprocessing import StandardScaler\n",
    "from sklearn.model_selection import train_test_split\n",
    "import torch\n",
    "from torch.utils.data import Dataset, DataLoader"
   ]
  },
  {
   "cell_type": "code",
   "execution_count": 300,
   "id": "e335de7a",
   "metadata": {},
   "outputs": [
    {
     "name": "stdout",
     "output_type": "stream",
     "text": [
      "(150, 4) (150,)\n"
     ]
    }
   ],
   "source": [
    "# 데이터 로드\n",
    "iris = load_iris()\n",
    "\n",
    "## 입력(특성)데이터 X, 타겟 y == input, target\n",
    "X = iris['data']\n",
    "y = iris['target']\n",
    "\n",
    "print(X.shape, y.shape) # numpy 데이터"
   ]
  },
  {
   "cell_type": "code",
   "execution_count": 301,
   "id": "eb5bbf90",
   "metadata": {},
   "outputs": [
    {
     "data": {
      "text/plain": [
       "array([5.1, 3.5, 1.4, 0.2])"
      ]
     },
     "execution_count": 301,
     "metadata": {},
     "output_type": "execute_result"
    }
   ],
   "source": [
    "# sepal(꽃받침) length(cm), sepal width(cm), petal(꽃잎) length(cm), petal width(cm)\n",
    "X[0, :]"
   ]
  },
  {
   "cell_type": "code",
   "execution_count": 302,
   "id": "c327f620",
   "metadata": {},
   "outputs": [
    {
     "data": {
      "text/plain": [
       "array([0, 0, 0, 0, 0, 0, 0, 0, 0, 0, 0, 0, 0, 0, 0, 0, 0, 0, 0, 0, 0, 0,\n",
       "       0, 0, 0, 0, 0, 0, 0, 0, 0, 0, 0, 0, 0, 0, 0, 0, 0, 0, 0, 0, 0, 0,\n",
       "       0, 0, 0, 0, 0, 0, 1, 1, 1, 1, 1, 1, 1, 1, 1, 1, 1, 1, 1, 1, 1, 1,\n",
       "       1, 1, 1, 1, 1, 1, 1, 1, 1, 1, 1, 1, 1, 1, 1, 1, 1, 1, 1, 1, 1, 1,\n",
       "       1, 1, 1, 1, 1, 1, 1, 1, 1, 1, 1, 1, 2, 2, 2, 2, 2, 2, 2, 2, 2, 2,\n",
       "       2, 2, 2, 2, 2, 2, 2, 2, 2, 2, 2, 2, 2, 2, 2, 2, 2, 2, 2, 2, 2, 2,\n",
       "       2, 2, 2, 2, 2, 2, 2, 2, 2, 2, 2, 2, 2, 2, 2, 2, 2, 2])"
      ]
     },
     "execution_count": 302,
     "metadata": {},
     "output_type": "execute_result"
    }
   ],
   "source": [
    "# 0(setosa), 1(versicolor), 2(virginica)\n",
    "y"
   ]
  },
  {
   "cell_type": "code",
   "execution_count": 303,
   "id": "22a42438",
   "metadata": {},
   "outputs": [],
   "source": [
    "# 표준화(정규화)\n",
    "scaler = StandardScaler() # 사이킷런의 표준정규화 클래스 사용\n",
    "X = scaler.fit_transform(X)"
   ]
  },
  {
   "cell_type": "code",
   "execution_count": 304,
   "id": "89207c0b",
   "metadata": {},
   "outputs": [
    {
     "data": {
      "text/plain": [
       "array([-0.90068117,  1.01900435, -1.34022653, -1.3154443 ])"
      ]
     },
     "execution_count": 304,
     "metadata": {},
     "output_type": "execute_result"
    }
   ],
   "source": [
    "X[0, :]"
   ]
  },
  {
   "cell_type": "code",
   "execution_count": 305,
   "id": "300aacf3",
   "metadata": {},
   "outputs": [],
   "source": [
    "# 훈련/테스트세트 분리\n",
    "train_scaled, test_scaled, train_target, test_target = train_test_split(X, y, test_size=0.2, random_state=42)"
   ]
  },
  {
   "cell_type": "code",
   "execution_count": 306,
   "id": "4395df14",
   "metadata": {},
   "outputs": [],
   "source": [
    "# 훈련/검증세트 분리\n",
    "train_scaled, val_scaled, train_target, val_target = train_test_split(train_scaled, train_target, test_size=0.2, random_state=42)"
   ]
  },
  {
   "cell_type": "code",
   "execution_count": 307,
   "id": "d32b0b46",
   "metadata": {},
   "outputs": [
    {
     "name": "stdout",
     "output_type": "stream",
     "text": [
      "(96, 4) (24, 4) (30, 4)\n"
     ]
    }
   ],
   "source": [
    "print(train_scaled.shape, val_scaled.shape, test_scaled.shape)"
   ]
  },
  {
   "cell_type": "code",
   "execution_count": 308,
   "id": "fc7135f8",
   "metadata": {},
   "outputs": [
    {
     "data": {
      "text/plain": [
       "array([2, 1, 1, 0, 2, 2, 2, 0, 1, 2, 2, 1, 2, 1, 1, 0, 0, 1, 2, 0, 0, 2,\n",
       "       2, 1, 2, 1, 1, 0, 2, 0, 1, 2, 0, 2, 0, 0, 2, 0, 2, 1, 2, 0, 0, 0,\n",
       "       0, 2, 0, 0, 1, 2, 1, 0, 1, 2, 1, 2, 2, 2, 2, 1, 1, 0, 0, 0, 2, 0,\n",
       "       0, 0, 2, 1, 2, 1, 2, 1, 1, 0, 0, 2, 1, 0, 2, 1, 2, 1, 2, 1, 1, 2,\n",
       "       1, 1, 0, 2, 0, 1, 0, 0])"
      ]
     },
     "execution_count": 308,
     "metadata": {},
     "output_type": "execute_result"
    }
   ],
   "source": [
    "train_target"
   ]
  },
  {
   "cell_type": "markdown",
   "id": "c1c2f2b8",
   "metadata": {},
   "source": [
    "#### 커스텀 데이터셋 만들기"
   ]
  },
  {
   "cell_type": "code",
   "execution_count": 309,
   "id": "c86850ab",
   "metadata": {},
   "outputs": [],
   "source": [
    "class IrisDataset(Dataset):\n",
    "    def __init__(self, X, y):\n",
    "        self.X = torch.tensor(X, dtype=torch.float32) # 특성(입력)값은 실수\n",
    "        self.y = torch.tensor(y, dtype=torch.long) # CrossEntropyLoss에서는 long타입 필요\n",
    "\n",
    "    def __len__(self):\n",
    "        return len(self.X)\n",
    "    \n",
    "    def __getitem__(self, index):\n",
    "        return self.X[index], self.y[index]"
   ]
  },
  {
   "cell_type": "markdown",
   "id": "1eb0cb2e",
   "metadata": {},
   "source": [
    "- 데이터셋으로 묶고, 데이터로더로 묶기"
   ]
  },
  {
   "cell_type": "code",
   "execution_count": 310,
   "id": "90b09a15",
   "metadata": {},
   "outputs": [],
   "source": [
    "# 커스텀 데이터셋으로 생성 - 입력(특성)값과 타겟값을 하나로 묶음\n",
    "train_dataset = IrisDataset(train_scaled, train_target)\n",
    "val_dataset = IrisDataset(val_scaled, val_target)"
   ]
  },
  {
   "cell_type": "code",
   "execution_count": 311,
   "id": "fe4eaf2c",
   "metadata": {},
   "outputs": [],
   "source": [
    "# 데이터로더로 생성 - 배치학습, 셔플, 병렬데이터 로딩\n",
    "train_loader = DataLoader(train_dataset, batch_size=8, shuffle=True)\n",
    "val_loader = DataLoader(val_dataset, batch_size=8)"
   ]
  },
  {
   "cell_type": "markdown",
   "id": "b628c912",
   "metadata": {},
   "source": [
    "- 실제 모델 훈련에서는 `DataLoader`를 사용"
   ]
  },
  {
   "cell_type": "markdown",
   "id": "3aca3c78",
   "metadata": {},
   "source": [
    "#### 배치 학습 반복"
   ]
  },
  {
   "cell_type": "code",
   "execution_count": 312,
   "id": "c17734e6",
   "metadata": {},
   "outputs": [
    {
     "name": "stdout",
     "output_type": "stream",
     "text": [
      "Batch loss : 1.0398997068405151 / 1\n",
      "Batch loss : 1.0785590410232544 / 2\n",
      "Batch loss : 0.9605504274368286 / 3\n",
      "Batch loss : 1.1359059810638428 / 4\n",
      "Batch loss : 1.089744210243225 / 5\n",
      "Batch loss : 1.049000859260559 / 6\n",
      "Batch loss : 1.1308459043502808 / 7\n",
      "Batch loss : 1.0602220296859741 / 8\n",
      "Batch loss : 1.147843599319458 / 9\n",
      "Batch loss : 1.119012713432312 / 10\n",
      "Batch loss : 1.1517677307128906 / 11\n",
      "Batch loss : 1.0821633338928223 / 12\n"
     ]
    }
   ],
   "source": [
    "i = 1\n",
    "for batch_input, batch_target in train_loader:\n",
    "    outputs = model(batch_input)\n",
    "    loss = criterion(outputs, batch_target)\n",
    "\n",
    "    print(f'Batch loss : {loss.item()} / {i}')\n",
    "    i = i + 1"
   ]
  },
  {
   "cell_type": "markdown",
   "id": "a7a4da06",
   "metadata": {},
   "source": [
    "- 96개 입력을 16으로 나눔 : 배치 사이즈가 16이니까 6번 epoch"
   ]
  },
  {
   "cell_type": "markdown",
   "id": "423797cf",
   "metadata": {},
   "source": [
    "#### 학습 루프 작성\n",
    "- 전체 학습 루프 구성\n",
    "- Epoch, Batch 사용\n",
    "- train(), evaluate() 확인"
   ]
  },
  {
   "cell_type": "markdown",
   "id": "d163402e",
   "metadata": {},
   "source": [
    "##### 신경망 클래스 정의"
   ]
  },
  {
   "cell_type": "code",
   "execution_count": 313,
   "id": "1e83b53c",
   "metadata": {},
   "outputs": [],
   "source": [
    "# 아이리스용 신경망\n",
    "class IrisNet(nn.Module):\n",
    "    def __init__(self):\n",
    "        super(IrisNet, self).__init__()\n",
    "        self.fc1 = nn.Linear(4, 16) # fc1 : Full Connected Layer / tensorflow Dense() 와 동일\n",
    "        self.fc2 = nn.Linear(16, 3)\n",
    "\n",
    "    def forward(self, X):\n",
    "        X = F.relu(self.fc1(X))\n",
    "        X = self.fc2(X)\n",
    "        return X"
   ]
  },
  {
   "cell_type": "markdown",
   "id": "e0c9fc86",
   "metadata": {},
   "source": [
    "##### Iris 데이터 준비"
   ]
  },
  {
   "cell_type": "code",
   "execution_count": 314,
   "id": "666355c1",
   "metadata": {},
   "outputs": [],
   "source": [
    "# 커스텀 데이터셋\n",
    "class IrisDataset(Dataset):\n",
    "    def __init__(self, X, y):\n",
    "        self.X = torch.tensor(X, dtype=torch.float32)\n",
    "        self.y = torch.tensor(y, dtype=torch.long)\n",
    "\n",
    "    def __len__(self):\n",
    "        return len(self.X)\n",
    "    \n",
    "    def __getitem__(self, index):\n",
    "        return self.X[index], self.y[index]\n",
    "\n",
    "iris = load_iris()\n",
    "X = StandardScaler().fit_transform(iris.data)\n",
    "y = iris.target\n",
    "\n",
    "X_train, X_val, y_train, y_val = train_test_split(X, y, test_size=0.2, random_state=42)\n",
    "\n",
    "# Dataset, DataLoader 합쳐서 생성\n",
    "train_loader = DataLoader(IrisDataset(X_train, y_train), batch_size=8, shuffle=True)\n",
    "val_loader = DataLoader(IrisDataset(X_val, y_val), batch_size=8)"
   ]
  },
  {
   "cell_type": "markdown",
   "id": "5bb3edbd",
   "metadata": {},
   "source": [
    "#### 모델 디바이스 전달"
   ]
  },
  {
   "cell_type": "code",
   "execution_count": 315,
   "id": "a75bfd17",
   "metadata": {},
   "outputs": [],
   "source": [
    "model = IrisNet().to(device)\n",
    "\n",
    "criterion = nn.CrossEntropyLoss()\n",
    "optimizer = torch.optim.Adam(model.parameters(), lr=0.01)"
   ]
  },
  {
   "cell_type": "code",
   "execution_count": 316,
   "id": "ef4092e7",
   "metadata": {},
   "outputs": [
    {
     "data": {
      "text/plain": [
       "IrisNet(\n",
       "  (fc1): Linear(in_features=4, out_features=16, bias=True)\n",
       "  (fc2): Linear(in_features=16, out_features=3, bias=True)\n",
       ")"
      ]
     },
     "execution_count": 316,
     "metadata": {},
     "output_type": "execute_result"
    }
   ],
   "source": [
    "model"
   ]
  },
  {
   "cell_type": "code",
   "execution_count": 317,
   "id": "f6129e34",
   "metadata": {},
   "outputs": [
    {
     "data": {
      "text/plain": [
       "CrossEntropyLoss()"
      ]
     },
     "execution_count": 317,
     "metadata": {},
     "output_type": "execute_result"
    }
   ],
   "source": [
    "criterion"
   ]
  },
  {
   "cell_type": "code",
   "execution_count": 318,
   "id": "bfcbb1fd",
   "metadata": {},
   "outputs": [
    {
     "data": {
      "text/plain": [
       "Adam (\n",
       "Parameter Group 0\n",
       "    amsgrad: False\n",
       "    betas: (0.9, 0.999)\n",
       "    capturable: False\n",
       "    differentiable: False\n",
       "    eps: 1e-08\n",
       "    foreach: None\n",
       "    fused: None\n",
       "    lr: 0.01\n",
       "    maximize: False\n",
       "    weight_decay: 0\n",
       ")"
      ]
     },
     "execution_count": 318,
     "metadata": {},
     "output_type": "execute_result"
    }
   ],
   "source": [
    "optimizer"
   ]
  },
  {
   "cell_type": "markdown",
   "id": "aef6ae20",
   "metadata": {},
   "source": [
    "#### 훈련 루프 함수 / 평가 함수"
   ]
  },
  {
   "cell_type": "code",
   "execution_count": 319,
   "id": "a12ba6a7",
   "metadata": {},
   "outputs": [],
   "source": [
    "# 훈련 루프 함수\n",
    "def train(model, dataloader, criterion, optimizer):\n",
    "    model.train()   # 훈련 모드\n",
    "    total_loss = 0\n",
    "    for X_batch, y_batch in dataloader:\n",
    "        X_batch, y_batch = X_batch.to(device), y_batch.to(device)\n",
    "\n",
    "        optimizer.zero_grad()\n",
    "        outputs = model(X_batch)\n",
    "        loss = criterion(outputs, y_batch)\n",
    "        loss.backward()\n",
    "        optimizer.step()\n",
    "\n",
    "        total_loss += loss.item()\n",
    "\n",
    "    avg_loss = total_loss / len(dataloader)\n",
    "    return avg_loss"
   ]
  },
  {
   "cell_type": "code",
   "execution_count": 322,
   "id": "8e8ae5d6",
   "metadata": {},
   "outputs": [],
   "source": [
    "# 평가함수\n",
    "def evaluate(model, dataloader, criterion):\n",
    "    model.eval()    # 평가 모드\n",
    "    total_loss = 0\n",
    "    correct = 0\n",
    "    total = 0\n",
    "\n",
    "    with torch.no_grad(): # 평가시에는 그레디언트 꺼줌\n",
    "        for X_batch, y_batch in dataloader:\n",
    "            X_batch, y_batch = X_batch.to(device), y_batch.to(device)\n",
    "            outputs = model(X_batch)\n",
    "            loss = criterion(outputs, y_batch)\n",
    "            total_loss += loss.item()\n",
    "\n",
    "            # 정확도\n",
    "            preds = torch.argmax(outputs, dim=1) # 제일 확률이 큰값의 인덱스(0, 1, 2)중 하나 값 선택\n",
    "            correct += (preds == y_batch).sum().item()\n",
    "            total += y_batch.size(0)\n",
    "\n",
    "    avg_loss = total_loss / len(dataloader)\n",
    "    accuracy = correct / total\n",
    "    return avg_loss, accuracy"
   ]
  },
  {
   "cell_type": "markdown",
   "id": "d6b79671",
   "metadata": {},
   "source": [
    "#### 훈련시행"
   ]
  },
  {
   "cell_type": "code",
   "execution_count": 325,
   "id": "c19f68e5",
   "metadata": {},
   "outputs": [
    {
     "name": "stdout",
     "output_type": "stream",
     "text": [
      "[1/20] Train Loss: 0.053 | Val Loss: 0.032, Val Accuracy: 100.00%\n",
      "[2/20] Train Loss: 0.054 | Val Loss: 0.035, Val Accuracy: 100.00%\n",
      "[3/20] Train Loss: 0.049 | Val Loss: 0.035, Val Accuracy: 100.00%\n",
      "[4/20] Train Loss: 0.048 | Val Loss: 0.029, Val Accuracy: 100.00%\n",
      "[5/20] Train Loss: 0.053 | Val Loss: 0.023, Val Accuracy: 100.00%\n",
      "[6/20] Train Loss: 0.049 | Val Loss: 0.036, Val Accuracy: 100.00%\n",
      "[7/20] Train Loss: 0.049 | Val Loss: 0.031, Val Accuracy: 100.00%\n",
      "[8/20] Train Loss: 0.056 | Val Loss: 0.033, Val Accuracy: 100.00%\n",
      "[9/20] Train Loss: 0.054 | Val Loss: 0.029, Val Accuracy: 100.00%\n",
      "[10/20] Train Loss: 0.054 | Val Loss: 0.042, Val Accuracy: 100.00%\n",
      "[11/20] Train Loss: 0.050 | Val Loss: 0.024, Val Accuracy: 100.00%\n",
      "[12/20] Train Loss: 0.048 | Val Loss: 0.041, Val Accuracy: 100.00%\n",
      "[13/20] Train Loss: 0.048 | Val Loss: 0.036, Val Accuracy: 100.00%\n",
      "[14/20] Train Loss: 0.052 | Val Loss: 0.023, Val Accuracy: 100.00%\n",
      "[15/20] Train Loss: 0.052 | Val Loss: 0.030, Val Accuracy: 100.00%\n",
      "[16/20] Train Loss: 0.047 | Val Loss: 0.040, Val Accuracy: 100.00%\n",
      "[17/20] Train Loss: 0.047 | Val Loss: 0.039, Val Accuracy: 100.00%\n",
      "[18/20] Train Loss: 0.049 | Val Loss: 0.033, Val Accuracy: 100.00%\n",
      "[19/20] Train Loss: 0.048 | Val Loss: 0.027, Val Accuracy: 100.00%\n",
      "[20/20] Train Loss: 0.054 | Val Loss: 0.033, Val Accuracy: 100.00%\n"
     ]
    }
   ],
   "source": [
    "EPOCH = 20\n",
    "\n",
    "for epoch in range(EPOCH):\n",
    "    train_loss = train(model, train_loader, criterion, optimizer)\n",
    "    val_loss, val_acc = evaluate(model, val_loader, criterion)\n",
    "\n",
    "    print(f'[{epoch+1}/{EPOCH}] Train Loss: {train_loss:.3f} | Val Loss: {val_loss:.3f}, Val Accuracy: {val_acc:.2%}')"
   ]
  },
  {
   "cell_type": "markdown",
   "id": "4ffcd9fc",
   "metadata": {},
   "source": [
    "- CUDA로 0.7s"
   ]
  }
 ],
 "metadata": {
  "kernelspec": {
   "display_name": "mlvenv",
   "language": "python",
   "name": "python3"
  },
  "language_info": {
   "codemirror_mode": {
    "name": "ipython",
    "version": 3
   },
   "file_extension": ".py",
   "mimetype": "text/x-python",
   "name": "python",
   "nbconvert_exporter": "python",
   "pygments_lexer": "ipython3",
   "version": "3.11.9"
  }
 },
 "nbformat": 4,
 "nbformat_minor": 5
}
