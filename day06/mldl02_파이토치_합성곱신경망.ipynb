{
 "cells": [
  {
   "cell_type": "markdown",
   "id": "3e63e083",
   "metadata": {},
   "source": [
    "## 합성곱 신경망\n",
    "\n",
    "### 파이토치로 패션 MNIST CNN 실습\n",
    "- 텐서플로(케라스)로 CNN을 하던지 파이토치로 CNN을 하던지 아무런 차이가 없음"
   ]
  },
  {
   "cell_type": "code",
   "execution_count": null,
   "id": "9dd477f0",
   "metadata": {},
   "outputs": [],
   "source": []
  }
 ],
 "metadata": {
  "kernelspec": {
   "display_name": "mlvenv",
   "language": "python",
   "name": "python3"
  },
  "language_info": {
   "name": "python",
   "version": "3.11.9"
  }
 },
 "nbformat": 4,
 "nbformat_minor": 5
}
